{
  "nbformat": 4,
  "nbformat_minor": 0,
  "metadata": {
    "colab": {
      "provenance": [],
      "authorship_tag": "ABX9TyNAPmwEKwlpRKSHT5cWXqQu",
      "include_colab_link": true
    },
    "kernelspec": {
      "name": "python3",
      "display_name": "Python 3"
    },
    "language_info": {
      "name": "python"
    }
  },
  "cells": [
    {
      "cell_type": "markdown",
      "metadata": {
        "id": "view-in-github",
        "colab_type": "text"
      },
      "source": [
        "<a href=\"https://colab.research.google.com/github/RRAJ644/NLP/blob/main/NLP_Assignment_1.ipynb\" target=\"_parent\"><img src=\"https://colab.research.google.com/assets/colab-badge.svg\" alt=\"Open In Colab\"/></a>"
      ]
    },
    {
      "cell_type": "code",
      "source": [
        "import re"
      ],
      "metadata": {
        "id": "SZ1F7axbnWGf"
      },
      "execution_count": 8,
      "outputs": []
    },
    {
      "cell_type": "code",
      "execution_count": 11,
      "metadata": {
        "id": "pqgstfr4D0II",
        "colab": {
          "base_uri": "https://localhost:8080/"
        },
        "outputId": "e11120e3-43b7-41bf-b3e6-e35b29428377"
      },
      "outputs": [
        {
          "output_type": "execute_result",
          "data": {
            "text/plain": [
              "['https://www.xy123z.com/', 'https://ritu-raj-vercel.com/']"
            ]
          },
          "metadata": {},
          "execution_count": 11
        }
      ],
      "source": [
        "# 1.\tTo find a URL in a sentence:\n",
        "\n",
        "example=\"I love spending time at https://www.xy123z.com/\"\n",
        "\n",
        "def find_url(sentence):\n",
        "  pattern = r\"https?://[\\w.-]+\\.\\w{2,}/?\"\n",
        "  return re.findall(pattern, sentence)\n",
        "\n",
        "find_url(example)\n"
      ]
    },
    {
      "cell_type": "code",
      "source": [
        "# 2.\tGet email id from the sentence:\n",
        "example=\"My email id is xyz111@gmail.com\"\n",
        "\n",
        "def find_email(sentence):\n",
        "  pattern = r\"[\\w.+%-]+@[\\w.-]+\\.[\\w]{2,}\"\n",
        "  return re.findall(pattern, sentence)\n",
        "\n",
        "find_email(example)"
      ],
      "metadata": {
        "colab": {
          "base_uri": "https://localhost:8080/"
        },
        "id": "KfZSYppGn6xU",
        "outputId": "82abceab-1ba9-493d-a0e7-6636100b86d1"
      },
      "execution_count": 16,
      "outputs": [
        {
          "output_type": "execute_result",
          "data": {
            "text/plain": [
              "['xyz111@gmail.com', 'rituraj_17239@gmail.com']"
            ]
          },
          "metadata": {},
          "execution_count": 16
        }
      ]
    },
    {
      "cell_type": "code",
      "source": [
        "# 3.\tTo find the hashtags:\n",
        "example = \"#Sushant is trending now in the world.\"\n",
        "\n",
        "def find_hashtag(sentence):\n",
        "  pattern = r\"#\\w+\"\n",
        "  return re.findall(pattern, sentence)\n",
        "\n",
        "find_hashtag(example)"
      ],
      "metadata": {
        "colab": {
          "base_uri": "https://localhost:8080/"
        },
        "id": "Uqwc6aNMpEqX",
        "outputId": "608a6901-724c-4b0d-953f-a9a6e772195e"
      },
      "execution_count": 23,
      "outputs": [
        {
          "output_type": "execute_result",
          "data": {
            "text/plain": [
              "['#Sushant']"
            ]
          },
          "metadata": {},
          "execution_count": 23
        }
      ]
    },
    {
      "cell_type": "code",
      "source": [
        "# 4.\tTo find the mentions in a sentence: @ – This symbol is used to mention someone in tweets. So, to extract words associated with @ symbol use this code:\n",
        "example=\"@Ajit, please help me\"\n",
        "\n",
        "def find_mention(sentence):\n",
        "  pattern=r\"@[\\w+.-]+\"\n",
        "  return re.findall(pattern, sentence)\n",
        "\n",
        "find_mention(example)"
      ],
      "metadata": {
        "colab": {
          "base_uri": "https://localhost:8080/"
        },
        "id": "6C08J0QJpuvS",
        "outputId": "789a7264-04ea-45ce-b53f-62e1ac45229f"
      },
      "execution_count": 28,
      "outputs": [
        {
          "output_type": "execute_result",
          "data": {
            "text/plain": [
              "['@Ajit', '@ritu.raj', '@rraj-singh']"
            ]
          },
          "metadata": {},
          "execution_count": 28
        }
      ]
    },
    {
      "cell_type": "code",
      "source": [
        "# 5.\tTo find numbers in a sentence:\n",
        "example=\"8853147 sq. km of area washed away in floods\"\n",
        "\n",
        "def find_numbers(sentence):\n",
        "  pattern = r\"[\\d]+\"\n",
        "  return re.findall(pattern, sentence)\n",
        "\n",
        "find_numbers(example)"
      ],
      "metadata": {
        "colab": {
          "base_uri": "https://localhost:8080/"
        },
        "id": "GTUMFRIKqjy6",
        "outputId": "713e8cdb-b290-438a-b513-2006b1deeefb"
      },
      "execution_count": 30,
      "outputs": [
        {
          "output_type": "execute_result",
          "data": {
            "text/plain": [
              "['8853147']"
            ]
          },
          "metadata": {},
          "execution_count": 30
        }
      ]
    },
    {
      "cell_type": "code",
      "source": [
        "# 6.\tTo find punctuations in a sentence:\n",
        "example=\"Corona virus killed #24506 people. #Corona is un(tolerable)\"\n",
        "\n",
        "def find_punctuations(sentence):\n",
        "  pattern = r\"[^\\w\\s]\"\n",
        "  return re.findall(pattern, sentence)\n",
        "\n",
        "find_punctuations(example)"
      ],
      "metadata": {
        "colab": {
          "base_uri": "https://localhost:8080/"
        },
        "id": "KM6_luZfsbs9",
        "outputId": "17318ea0-a815-485f-de74-03561c4459f2"
      },
      "execution_count": 31,
      "outputs": [
        {
          "output_type": "execute_result",
          "data": {
            "text/plain": [
              "['#', '.', '#', '(', ')']"
            ]
          },
          "metadata": {},
          "execution_count": 31
        }
      ]
    },
    {
      "cell_type": "code",
      "source": [
        "import re\n",
        "\n",
        "example1 = \"ABCED3193P\"\n",
        "example2 = \"lEcGD012eg\"\n",
        "\n",
        "def validate_pan_number(pan):\n",
        "    pattern = r\"^[A-Z]{5}\\d{4}[A-Z]$\"\n",
        "    return bool(re.match(pattern, pan))\n",
        "\n",
        "print(validate_pan_number(example1))\n",
        "print(validate_pan_number(example2))"
      ],
      "metadata": {
        "colab": {
          "base_uri": "https://localhost:8080/"
        },
        "id": "uvqQOctps24B",
        "outputId": "76c5efcc-83a4-4eae-8936-2b422deb64cb"
      },
      "execution_count": 39,
      "outputs": [
        {
          "output_type": "stream",
          "name": "stdout",
          "text": [
            "True\n",
            "False\n"
          ]
        }
      ]
    },
    {
      "cell_type": "code",
      "source": [
        "# 8.\tRemove repetitive characters from sentence:\n",
        "example=\"heyyy thhhissss is a verrrry loong texttt\"\n",
        "\n",
        "def remove_repititive_characters(sentence):\n",
        "  pattern = r\"(.)\\1+\"\n",
        "  return re.sub(pattern, r'\\1', sentence)\n",
        "\n",
        "remove_repititive_characters(example)"
      ],
      "metadata": {
        "colab": {
          "base_uri": "https://localhost:8080/",
          "height": 36
        },
        "id": "aXyF_OvWva7u",
        "outputId": "b0b98d42-92fc-46fa-8cb6-70b53cadc523"
      },
      "execution_count": 41,
      "outputs": [
        {
          "output_type": "execute_result",
          "data": {
            "text/plain": [
              "'hey this is a very long text'"
            ],
            "application/vnd.google.colaboratory.intrinsic+json": {
              "type": "string"
            }
          },
          "metadata": {},
          "execution_count": 41
        }
      ]
    },
    {
      "cell_type": "code",
      "source": [
        "# 9.\tTo find Indian mobile numbers:\n",
        "example= \"9990001796 is a phone number of PMO office\"\n",
        "\n",
        "def find_indian_phone_number(sentence):\n",
        "  pattern=r\"\\b[6-9]\\d{9}\\b\"\n",
        "  return re.findall(pattern, sentence)\n",
        "\n",
        "find_indian_phone_number(example)"
      ],
      "metadata": {
        "colab": {
          "base_uri": "https://localhost:8080/"
        },
        "id": "MGJjwMqMxnco",
        "outputId": "5b89661b-d121-4f19-a3dd-a1fe2626b07b"
      },
      "execution_count": 43,
      "outputs": [
        {
          "output_type": "execute_result",
          "data": {
            "text/plain": [
              "['9990001796']"
            ]
          },
          "metadata": {},
          "execution_count": 43
        }
      ]
    },
    {
      "cell_type": "code",
      "source": [
        "# 10.\tExtract words starting with a capital letter from the input text.\n",
        "example=\"Ajit Doval is the best National Security Advisor so far.\"\n",
        "\n",
        "def extract_words_starting_with_capital_letter(sentence):\n",
        "  pattern = r\"\\b[A-Z]\\w*\\b\"\n",
        "  return re.findall(pattern, sentence)\n",
        "\n",
        "extract_words_starting_with_capital_letter(example)"
      ],
      "metadata": {
        "colab": {
          "base_uri": "https://localhost:8080/"
        },
        "id": "fM_gqYDZz3Lr",
        "outputId": "fb7471df-09d4-48c7-8bb4-327a9033351d"
      },
      "execution_count": 53,
      "outputs": [
        {
          "output_type": "execute_result",
          "data": {
            "text/plain": [
              "['Ajit', 'Doval', 'National', 'Security', 'Advisor']"
            ]
          },
          "metadata": {},
          "execution_count": 53
        }
      ]
    }
  ]
}