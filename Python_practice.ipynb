{
  "nbformat": 4,
  "nbformat_minor": 0,
  "metadata": {
    "colab": {
      "provenance": [],
      "authorship_tag": "ABX9TyMBAwCiET12VP3xUdDL8Z+5",
      "include_colab_link": true
    },
    "kernelspec": {
      "name": "python3",
      "display_name": "Python 3"
    },
    "language_info": {
      "name": "python"
    }
  },
  "cells": [
    {
      "cell_type": "markdown",
      "metadata": {
        "id": "view-in-github",
        "colab_type": "text"
      },
      "source": [
        "<a href=\"https://colab.research.google.com/github/RRAJ644/NLP/blob/main/Python_practice.ipynb\" target=\"_parent\"><img src=\"https://colab.research.google.com/assets/colab-badge.svg\" alt=\"Open In Colab\"/></a>"
      ]
    },
    {
      "cell_type": "code",
      "execution_count": 2,
      "metadata": {
        "id": "92lAw38PEHxp",
        "colab": {
          "base_uri": "https://localhost:8080/"
        },
        "outputId": "8052f19b-c12b-4429-e652-ab4e26564349"
      },
      "outputs": [
        {
          "output_type": "stream",
          "name": "stdout",
          "text": [
            "Hello World\n"
          ]
        }
      ],
      "source": [
        "print(\"Hello World!\")"
      ]
    },
    {
      "cell_type": "code",
      "source": [
        "# Variables\n",
        "a=10 #int\n",
        "b=10.5 #float\n",
        "c = True #boolean\n",
        "print(a)\n",
        "print(b)\n",
        "print(c)"
      ],
      "metadata": {
        "colab": {
          "base_uri": "https://localhost:8080/"
        },
        "id": "a4wrCPjaJSW4",
        "outputId": "344988fc-d9c6-42c4-97b9-0cbc271ebf42"
      },
      "execution_count": 5,
      "outputs": [
        {
          "output_type": "stream",
          "name": "stdout",
          "text": [
            "10\n",
            "10.5\n",
            "True\n"
          ]
        }
      ]
    },
    {
      "cell_type": "code",
      "source": [
        "# Type casting\n",
        "x = str(3)    # x will be '3'\n",
        "y = int(3)    # y will be 3\n",
        "z = float(3)  # z will be 3.0\n",
        "\n",
        "print(x)\n",
        "print(y)\n",
        "print(z)\n",
        "\n",
        "\n",
        "print(type(x))\n",
        "print(type(y))\n",
        "print(type(z))"
      ],
      "metadata": {
        "colab": {
          "base_uri": "https://localhost:8080/"
        },
        "id": "NWL5ZCgIJrjj",
        "outputId": "f050d17d-7e1d-4646-8cd0-a7436fc48a3f"
      },
      "execution_count": 10,
      "outputs": [
        {
          "output_type": "stream",
          "name": "stdout",
          "text": [
            "3\n",
            "3\n",
            "3.0\n",
            "<class 'str'>\n",
            "<class 'int'>\n",
            "<class 'float'>\n"
          ]
        }
      ]
    },
    {
      "cell_type": "code",
      "source": [
        "# Loops\n",
        "fruits = [\"apple\", \"banana\", \"cherry\"]\n",
        "for x in fruits:\n",
        "  if x == \"banana\":\n",
        "    continue #skips the element\n",
        "  print(x)"
      ],
      "metadata": {
        "colab": {
          "base_uri": "https://localhost:8080/"
        },
        "id": "Yaj-C-j4Kppp",
        "outputId": "a0aea4cd-77cd-4032-e63b-d7309be56d6e"
      },
      "execution_count": 8,
      "outputs": [
        {
          "output_type": "stream",
          "name": "stdout",
          "text": [
            "apple\n",
            "cherry\n"
          ]
        }
      ]
    },
    {
      "cell_type": "code",
      "source": [
        "# USER INPUT AND PRINT TABLE\n",
        "number = eval(input(\"Enter your number: \"))\n",
        "for i in range(1,11):\n",
        "  print(number * i)\n",
        "\n"
      ],
      "metadata": {
        "colab": {
          "base_uri": "https://localhost:8080/"
        },
        "id": "gq4NdhOBOYbi",
        "outputId": "b304538e-8c89-4aa6-ffd1-7c6220c04a90"
      },
      "execution_count": 19,
      "outputs": [
        {
          "output_type": "stream",
          "name": "stdout",
          "text": [
            "Enter your number: 4\n",
            "4\n",
            "8\n",
            "12\n",
            "16\n",
            "20\n",
            "24\n",
            "28\n",
            "32\n",
            "36\n",
            "40\n"
          ]
        }
      ]
    },
    {
      "cell_type": "code",
      "source": [
        "# Print even number\n",
        "\n",
        "x=1\n",
        "while(x<10):\n",
        "  if(x%2==0):\n",
        "    print(x)\n",
        "  x+=1"
      ],
      "metadata": {
        "colab": {
          "base_uri": "https://localhost:8080/"
        },
        "id": "mlRzMIqgPXR5",
        "outputId": "3357b684-586a-452c-d23b-3e32977421d4"
      },
      "execution_count": 21,
      "outputs": [
        {
          "output_type": "stream",
          "name": "stdout",
          "text": [
            "2\n",
            "4\n",
            "6\n",
            "8\n"
          ]
        }
      ]
    },
    {
      "cell_type": "code",
      "source": [
        "# Count the number of vowels in a string\n",
        "testString = \"hello\"\n",
        "vowelCount = 0\n",
        "\n",
        "vowels = 'aeiouAEIOU'\n",
        "\n",
        "for i in testString:\n",
        "  if i in vowels:\n",
        "    vowelCount+=1\n",
        "\n",
        "print(vowelCount)"
      ],
      "metadata": {
        "colab": {
          "base_uri": "https://localhost:8080/"
        },
        "id": "0Qw0-cVvP7S2",
        "outputId": "ce9a7a3f-7ccc-4aec-974a-7ee65b95ad6e"
      },
      "execution_count": 24,
      "outputs": [
        {
          "output_type": "stream",
          "name": "stdout",
          "text": [
            "2\n"
          ]
        }
      ]
    },
    {
      "cell_type": "code",
      "source": [
        "# Check if a string is a palindrome\n",
        "testCase=\"NitiN\"\n",
        "i=0\n",
        "j=len(testString)-1\n",
        "\n",
        "isPalidrome=True\n",
        "\n",
        "while(i<j):\n",
        "  if(testCase[i]!=testCase[j]):\n",
        "    isPalidrome = False\n",
        "    break\n",
        "  i+=1\n",
        "  j-=1\n",
        "\n",
        "\n",
        "if(isPalidrome):\n",
        "  print(\"Palindrome\")\n",
        "else:\n",
        "  print(\"Not Palindrome\")\n",
        ""
      ],
      "metadata": {
        "colab": {
          "base_uri": "https://localhost:8080/"
        },
        "id": "l7SMYtR_Sk-Y",
        "outputId": "cc08363a-c74b-44d5-8ed4-d0d9c87a86b5"
      },
      "execution_count": 32,
      "outputs": [
        {
          "output_type": "stream",
          "name": "stdout",
          "text": [
            "Palindrome\n"
          ]
        }
      ]
    },
    {
      "cell_type": "code",
      "source": [],
      "metadata": {
        "id": "vScYVSaWXuCc"
      },
      "execution_count": null,
      "outputs": []
    }
  ]
}